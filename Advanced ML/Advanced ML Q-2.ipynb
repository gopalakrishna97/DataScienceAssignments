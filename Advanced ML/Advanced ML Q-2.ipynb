{
 "cells": [
  {
   "cell_type": "markdown",
   "id": "80b42478",
   "metadata": {},
   "source": [
    "## Advanced ML Q-2.\n",
    "A chemist had two chemical flasks labeled 0 and 1 which consist of two\n",
    "different chemicals. He extracted 3 features from these chemicals in order to\n",
    "distinguish between them, you provided the results derived by the chemicals and\n",
    "your task is to create a model that will label chemical 0 or 1 given its three features\n",
    "and built-in docker and use some library to display that in frontend.\n",
    "Note : Use only pyspark\n",
    "Dataset This is the Dataset You can use this dataset for this question."
   ]
  },
  {
   "cell_type": "code",
   "execution_count": 1,
   "id": "0fcd5650",
   "metadata": {},
   "outputs": [],
   "source": [
    "import pandas as pd\n",
    "df = pd.read_csv(\"indian_liver_patient.csv\")"
   ]
  },
  {
   "cell_type": "code",
   "execution_count": 2,
   "id": "76df744f",
   "metadata": {},
   "outputs": [
    {
     "data": {
      "text/html": [
       "<div>\n",
       "<style scoped>\n",
       "    .dataframe tbody tr th:only-of-type {\n",
       "        vertical-align: middle;\n",
       "    }\n",
       "\n",
       "    .dataframe tbody tr th {\n",
       "        vertical-align: top;\n",
       "    }\n",
       "\n",
       "    .dataframe thead th {\n",
       "        text-align: right;\n",
       "    }\n",
       "</style>\n",
       "<table border=\"1\" class=\"dataframe\">\n",
       "  <thead>\n",
       "    <tr style=\"text-align: right;\">\n",
       "      <th></th>\n",
       "      <th>Age</th>\n",
       "      <th>Gender</th>\n",
       "      <th>Total_Bilirubin</th>\n",
       "      <th>Direct_Bilirubin</th>\n",
       "      <th>Alkaline_Phosphotase</th>\n",
       "      <th>Alamine_Aminotransferase</th>\n",
       "      <th>Aspartate_Aminotransferase</th>\n",
       "      <th>Total_Protiens</th>\n",
       "      <th>Albumin</th>\n",
       "      <th>Albumin_and_Globulin_Ratio</th>\n",
       "      <th>Dataset</th>\n",
       "    </tr>\n",
       "  </thead>\n",
       "  <tbody>\n",
       "    <tr>\n",
       "      <th>0</th>\n",
       "      <td>65</td>\n",
       "      <td>Female</td>\n",
       "      <td>0.7</td>\n",
       "      <td>0.1</td>\n",
       "      <td>187</td>\n",
       "      <td>16</td>\n",
       "      <td>18</td>\n",
       "      <td>6.8</td>\n",
       "      <td>3.3</td>\n",
       "      <td>0.90</td>\n",
       "      <td>1</td>\n",
       "    </tr>\n",
       "    <tr>\n",
       "      <th>1</th>\n",
       "      <td>62</td>\n",
       "      <td>Male</td>\n",
       "      <td>10.9</td>\n",
       "      <td>5.5</td>\n",
       "      <td>699</td>\n",
       "      <td>64</td>\n",
       "      <td>100</td>\n",
       "      <td>7.5</td>\n",
       "      <td>3.2</td>\n",
       "      <td>0.74</td>\n",
       "      <td>1</td>\n",
       "    </tr>\n",
       "    <tr>\n",
       "      <th>2</th>\n",
       "      <td>62</td>\n",
       "      <td>Male</td>\n",
       "      <td>7.3</td>\n",
       "      <td>4.1</td>\n",
       "      <td>490</td>\n",
       "      <td>60</td>\n",
       "      <td>68</td>\n",
       "      <td>7.0</td>\n",
       "      <td>3.3</td>\n",
       "      <td>0.89</td>\n",
       "      <td>1</td>\n",
       "    </tr>\n",
       "    <tr>\n",
       "      <th>3</th>\n",
       "      <td>58</td>\n",
       "      <td>Male</td>\n",
       "      <td>1.0</td>\n",
       "      <td>0.4</td>\n",
       "      <td>182</td>\n",
       "      <td>14</td>\n",
       "      <td>20</td>\n",
       "      <td>6.8</td>\n",
       "      <td>3.4</td>\n",
       "      <td>1.00</td>\n",
       "      <td>1</td>\n",
       "    </tr>\n",
       "    <tr>\n",
       "      <th>4</th>\n",
       "      <td>72</td>\n",
       "      <td>Male</td>\n",
       "      <td>3.9</td>\n",
       "      <td>2.0</td>\n",
       "      <td>195</td>\n",
       "      <td>27</td>\n",
       "      <td>59</td>\n",
       "      <td>7.3</td>\n",
       "      <td>2.4</td>\n",
       "      <td>0.40</td>\n",
       "      <td>1</td>\n",
       "    </tr>\n",
       "    <tr>\n",
       "      <th>...</th>\n",
       "      <td>...</td>\n",
       "      <td>...</td>\n",
       "      <td>...</td>\n",
       "      <td>...</td>\n",
       "      <td>...</td>\n",
       "      <td>...</td>\n",
       "      <td>...</td>\n",
       "      <td>...</td>\n",
       "      <td>...</td>\n",
       "      <td>...</td>\n",
       "      <td>...</td>\n",
       "    </tr>\n",
       "    <tr>\n",
       "      <th>578</th>\n",
       "      <td>60</td>\n",
       "      <td>Male</td>\n",
       "      <td>0.5</td>\n",
       "      <td>0.1</td>\n",
       "      <td>500</td>\n",
       "      <td>20</td>\n",
       "      <td>34</td>\n",
       "      <td>5.9</td>\n",
       "      <td>1.6</td>\n",
       "      <td>0.37</td>\n",
       "      <td>2</td>\n",
       "    </tr>\n",
       "    <tr>\n",
       "      <th>579</th>\n",
       "      <td>40</td>\n",
       "      <td>Male</td>\n",
       "      <td>0.6</td>\n",
       "      <td>0.1</td>\n",
       "      <td>98</td>\n",
       "      <td>35</td>\n",
       "      <td>31</td>\n",
       "      <td>6.0</td>\n",
       "      <td>3.2</td>\n",
       "      <td>1.10</td>\n",
       "      <td>1</td>\n",
       "    </tr>\n",
       "    <tr>\n",
       "      <th>580</th>\n",
       "      <td>52</td>\n",
       "      <td>Male</td>\n",
       "      <td>0.8</td>\n",
       "      <td>0.2</td>\n",
       "      <td>245</td>\n",
       "      <td>48</td>\n",
       "      <td>49</td>\n",
       "      <td>6.4</td>\n",
       "      <td>3.2</td>\n",
       "      <td>1.00</td>\n",
       "      <td>1</td>\n",
       "    </tr>\n",
       "    <tr>\n",
       "      <th>581</th>\n",
       "      <td>31</td>\n",
       "      <td>Male</td>\n",
       "      <td>1.3</td>\n",
       "      <td>0.5</td>\n",
       "      <td>184</td>\n",
       "      <td>29</td>\n",
       "      <td>32</td>\n",
       "      <td>6.8</td>\n",
       "      <td>3.4</td>\n",
       "      <td>1.00</td>\n",
       "      <td>1</td>\n",
       "    </tr>\n",
       "    <tr>\n",
       "      <th>582</th>\n",
       "      <td>38</td>\n",
       "      <td>Male</td>\n",
       "      <td>1.0</td>\n",
       "      <td>0.3</td>\n",
       "      <td>216</td>\n",
       "      <td>21</td>\n",
       "      <td>24</td>\n",
       "      <td>7.3</td>\n",
       "      <td>4.4</td>\n",
       "      <td>1.50</td>\n",
       "      <td>2</td>\n",
       "    </tr>\n",
       "  </tbody>\n",
       "</table>\n",
       "<p>583 rows × 11 columns</p>\n",
       "</div>"
      ],
      "text/plain": [
       "     Age  Gender  Total_Bilirubin  Direct_Bilirubin  Alkaline_Phosphotase  \\\n",
       "0     65  Female              0.7               0.1                   187   \n",
       "1     62    Male             10.9               5.5                   699   \n",
       "2     62    Male              7.3               4.1                   490   \n",
       "3     58    Male              1.0               0.4                   182   \n",
       "4     72    Male              3.9               2.0                   195   \n",
       "..   ...     ...              ...               ...                   ...   \n",
       "578   60    Male              0.5               0.1                   500   \n",
       "579   40    Male              0.6               0.1                    98   \n",
       "580   52    Male              0.8               0.2                   245   \n",
       "581   31    Male              1.3               0.5                   184   \n",
       "582   38    Male              1.0               0.3                   216   \n",
       "\n",
       "     Alamine_Aminotransferase  Aspartate_Aminotransferase  Total_Protiens  \\\n",
       "0                          16                          18             6.8   \n",
       "1                          64                         100             7.5   \n",
       "2                          60                          68             7.0   \n",
       "3                          14                          20             6.8   \n",
       "4                          27                          59             7.3   \n",
       "..                        ...                         ...             ...   \n",
       "578                        20                          34             5.9   \n",
       "579                        35                          31             6.0   \n",
       "580                        48                          49             6.4   \n",
       "581                        29                          32             6.8   \n",
       "582                        21                          24             7.3   \n",
       "\n",
       "     Albumin  Albumin_and_Globulin_Ratio  Dataset  \n",
       "0        3.3                        0.90        1  \n",
       "1        3.2                        0.74        1  \n",
       "2        3.3                        0.89        1  \n",
       "3        3.4                        1.00        1  \n",
       "4        2.4                        0.40        1  \n",
       "..       ...                         ...      ...  \n",
       "578      1.6                        0.37        2  \n",
       "579      3.2                        1.10        1  \n",
       "580      3.2                        1.00        1  \n",
       "581      3.4                        1.00        1  \n",
       "582      4.4                        1.50        2  \n",
       "\n",
       "[583 rows x 11 columns]"
      ]
     },
     "execution_count": 2,
     "metadata": {},
     "output_type": "execute_result"
    }
   ],
   "source": [
    "df"
   ]
  },
  {
   "cell_type": "code",
   "execution_count": 3,
   "id": "9e569e22",
   "metadata": {},
   "outputs": [
    {
     "data": {
      "text/plain": [
       "1    416\n",
       "2    167\n",
       "Name: Dataset, dtype: int64"
      ]
     },
     "execution_count": 3,
     "metadata": {},
     "output_type": "execute_result"
    }
   ],
   "source": [
    "df.Dataset.value_counts()"
   ]
  },
  {
   "cell_type": "code",
   "execution_count": 4,
   "id": "0faf50a7",
   "metadata": {},
   "outputs": [],
   "source": [
    "# Import required libraries\n",
    "from pyspark.sql import SparkSession\n",
    "from pyspark.ml.feature import VectorAssembler\n",
    "from pyspark.ml.classification import RandomForestClassifier\n",
    "from pyspark.ml import Pipeline\n",
    "from pyspark.ml.evaluation import BinaryClassificationEvaluator\n",
    "from pyspark.sql.functions import col\n",
    "\n"
   ]
  },
  {
   "cell_type": "code",
   "execution_count": 5,
   "id": "ffa9c1b0",
   "metadata": {},
   "outputs": [
    {
     "data": {
      "text/plain": [
       "DataFrame[Age: int, Gender: string, Total_Bilirubin: double, Direct_Bilirubin: double, Alkaline_Phosphotase: int, Alamine_Aminotransferase: int, Aspartate_Aminotransferase: int, Total_Protiens: double, Albumin: double, Albumin_and_Globulin_Ratio: double, Dataset: int]"
      ]
     },
     "execution_count": 5,
     "metadata": {},
     "output_type": "execute_result"
    }
   ],
   "source": [
    "# Create a SparkSession\n",
    "spark = SparkSession.builder.appName(\"ChemicalClassify\").getOrCreate()\n",
    "\n",
    "# Load the dataset\n",
    "dataset_path = \"indian_liver_patient.csv\"\n",
    "data = spark.read.csv(dataset_path, header=True, inferSchema=True)\n",
    "\n",
    "data"
   ]
  },
  {
   "cell_type": "code",
   "execution_count": 6,
   "id": "72cfec2e",
   "metadata": {},
   "outputs": [
    {
     "data": {
      "text/plain": [
       "DataFrame[Age: int, Gender: string, Total_Bilirubin: double, Direct_Bilirubin: double, Alkaline_Phosphotase: int, Alamine_Aminotransferase: int, Aspartate_Aminotransferase: int, Total_Protiens: double, Albumin: double, Albumin_and_Globulin_Ratio: double, Dataset: int]"
      ]
     },
     "execution_count": 6,
     "metadata": {},
     "output_type": "execute_result"
    }
   ],
   "source": [
    "# Drop any rows with missing values\n",
    "data = data.dropna()\n",
    "data"
   ]
  },
  {
   "cell_type": "code",
   "execution_count": 7,
   "id": "b756adf3-ccdd-4f48-9756-477610db61db",
   "metadata": {},
   "outputs": [
    {
     "data": {
      "text/plain": [
       "DataFrame[Age: int, Gender: string, Total_Bilirubin: double, Direct_Bilirubin: double, Alkaline_Phosphotase: int, Alamine_Aminotransferase: int, Aspartate_Aminotransferase: int, Total_Protiens: double, Albumin: double, Albumin_and_Globulin_Ratio: double, Dataset: int, label: int]"
      ]
     },
     "execution_count": 7,
     "metadata": {},
     "output_type": "execute_result"
    }
   ],
   "source": [
    "# Convert the Dataset column to a binary label column\n",
    "data = data.withColumn(\"label\", (col(\"Dataset\") - 1))\n",
    "data"
   ]
  },
  {
   "cell_type": "code",
   "execution_count": 8,
   "id": "5c4f1e57-68c3-49c9-a695-e545caa6f4c4",
   "metadata": {},
   "outputs": [
    {
     "data": {
      "text/plain": [
       "DataFrame[Age: int, Gender: string, Total_Bilirubin: double, Direct_Bilirubin: double, Alkaline_Phosphotase: int, Alamine_Aminotransferase: int, Aspartate_Aminotransferase: int, Total_Protiens: double, Albumin: double, Albumin_and_Globulin_Ratio: double, Dataset: int, label: int, GenderIndex: double]"
      ]
     },
     "execution_count": 8,
     "metadata": {},
     "output_type": "execute_result"
    }
   ],
   "source": [
    "from pyspark.ml.feature import VectorAssembler, StringIndexer, OneHotEncoder\n",
    "\n",
    "# Perform encoding on the Gender column\n",
    "gender_indexer = StringIndexer(inputCol=\"Gender\", outputCol=\"GenderIndex\")\n",
    "data = gender_indexer.fit(data).transform(data)\n",
    "data"
   ]
  },
  {
   "cell_type": "code",
   "execution_count": 9,
   "id": "4e3b9ffd",
   "metadata": {},
   "outputs": [],
   "source": [
    "# Select the input features column and the label column\n",
    "selected_columns = [\"Age\", \"GenderIndex\", \"Total_Bilirubin\", \"Direct_Bilirubin\", \"Alkaline_Phosphotase\", \"Alamine_Aminotransferase\",\n",
    "                    \"Aspartate_Aminotransferase\", \"Total_Protiens\", \"Albumin\", \"Albumin_and_Globulin_Ratio\", \"label\"]\n",
    "data = data.select(*selected_columns)"
   ]
  },
  {
   "cell_type": "code",
   "execution_count": 10,
   "id": "ffd41474",
   "metadata": {},
   "outputs": [],
   "source": [
    "# Create a vector assembler to combine the features into a single vector column\n",
    "assembler = VectorAssembler(inputCols=[\"Age\", \"GenderIndex\", \"Total_Bilirubin\", \"Direct_Bilirubin\", \"Alkaline_Phosphotase\",\n",
    "                                       \"Alamine_Aminotransferase\", \"Aspartate_Aminotransferase\", \"Total_Protiens\",\n",
    "                                       \"Albumin\", \"Albumin_and_Globulin_Ratio\"], outputCol=\"features\")"
   ]
  },
  {
   "cell_type": "code",
   "execution_count": 11,
   "id": "64d2e374",
   "metadata": {},
   "outputs": [],
   "source": [
    "# Create a Random Forest classifier\n",
    "rf = RandomForestClassifier(featuresCol=\"features\", labelCol=\"label\")"
   ]
  },
  {
   "cell_type": "code",
   "execution_count": 12,
   "id": "88c499b4",
   "metadata": {},
   "outputs": [],
   "source": [
    "# Create a pipeline to chain the vector assembler and the random forest classifier\n",
    "pipeline = Pipeline(stages=[assembler, rf])"
   ]
  },
  {
   "cell_type": "code",
   "execution_count": 13,
   "id": "5611eebe",
   "metadata": {},
   "outputs": [],
   "source": [
    "# Split the data into training and testing sets\n",
    "(train_data, test_data) = data.randomSplit([0.8, 0.2], seed=42)"
   ]
  },
  {
   "cell_type": "code",
   "execution_count": 14,
   "id": "e74956ea",
   "metadata": {},
   "outputs": [
    {
     "data": {
      "text/plain": [
       "DataFrame[Age: int, GenderIndex: double, Total_Bilirubin: double, Direct_Bilirubin: double, Alkaline_Phosphotase: int, Alamine_Aminotransferase: int, Aspartate_Aminotransferase: int, Total_Protiens: double, Albumin: double, Albumin_and_Globulin_Ratio: double, label: int]"
      ]
     },
     "execution_count": 14,
     "metadata": {},
     "output_type": "execute_result"
    }
   ],
   "source": [
    "train_data"
   ]
  },
  {
   "cell_type": "code",
   "execution_count": 15,
   "id": "2a732d10",
   "metadata": {},
   "outputs": [],
   "source": [
    "# Train the model\n",
    "model = pipeline.fit(train_data)"
   ]
  },
  {
   "cell_type": "code",
   "execution_count": 17,
   "id": "800021a2",
   "metadata": {},
   "outputs": [
    {
     "name": "stdout",
     "output_type": "stream",
     "text": [
      "+---+-----------+---------------+----------------+--------------------+------------------------+--------------------------+--------------+-------+--------------------------+-----+--------------------+--------------------+--------------------+----------+\n",
      "|Age|GenderIndex|Total_Bilirubin|Direct_Bilirubin|Alkaline_Phosphotase|Alamine_Aminotransferase|Aspartate_Aminotransferase|Total_Protiens|Albumin|Albumin_and_Globulin_Ratio|label|            features|       rawPrediction|         probability|prediction|\n",
      "+---+-----------+---------------+----------------+--------------------+------------------------+--------------------------+--------------+-------+--------------------------+-----+--------------------+--------------------+--------------------+----------+\n",
      "|  6|        0.0|            0.6|             0.1|                 289|                      38|                        30|           4.8|    2.0|                       0.7|    1|[6.0,0.0,0.6,0.1,...|[10.8037159303027...|[0.54018579651513...|       0.0|\n",
      "| 10|        1.0|            0.8|             0.1|                 395|                      25|                        75|           7.6|    3.6|                       0.9|    0|[10.0,1.0,0.8,0.1...|[10.8076019005034...|[0.54038009502517...|       0.0|\n",
      "| 12|        0.0|            0.8|             0.2|                 302|                      47|                        67|           6.7|    3.5|                       1.1|    1|[12.0,0.0,0.8,0.2...|[13.4720338729369...|[0.67360169364684...|       0.0|\n",
      "| 13|        1.0|            0.7|             0.2|                 350|                      17|                        24|           7.4|    4.0|                       1.1|    0|[13.0,1.0,0.7,0.2...|[7.83032993307681...|[0.39151649665384...|       1.0|\n",
      "| 16|        0.0|            7.7|             4.1|                 268|                     213|                       168|           7.1|    4.0|                       1.2|    0|[16.0,0.0,7.7,4.1...|[18.9149903545769...|[0.94574951772884...|       0.0|\n",
      "| 17|        1.0|            0.5|             0.1|                 206|                      28|                        21|           7.1|    4.5|                       1.7|    1|[17.0,1.0,0.5,0.1...|[7.65324117608061...|[0.38266205880403...|       1.0|\n",
      "| 18|        0.0|            0.8|             0.2|                 282|                      72|                       140|           5.5|    2.5|                       0.8|    0|[18.0,0.0,0.8,0.2...|[16.3961600459137...|[0.81980800229568...|       0.0|\n",
      "| 18|        1.0|            0.8|             0.2|                 199|                      34|                        31|           6.5|    3.5|                      1.16|    1|[18.0,1.0,0.8,0.2...|[9.40437369832541...|[0.47021868491627...|       1.0|\n",
      "| 21|        0.0|            3.9|             1.8|                 150|                      36|                        27|           6.8|    3.9|                      1.34|    0|[21.0,0.0,3.9,1.8...|[13.6105161142820...|[0.68052580571410...|       0.0|\n",
      "| 21|        0.0|           18.5|             9.5|                 380|                     390|                       500|           8.2|    4.1|                       1.0|    0|[21.0,0.0,18.5,9....|[16.7120971646288...|[0.83560485823144...|       0.0|\n",
      "| 21|        1.0|            0.6|             0.1|                 186|                      25|                        22|           6.8|    3.4|                       1.0|    0|[21.0,1.0,0.6,0.1...|[8.94579767812434...|[0.44728988390621...|       1.0|\n",
      "| 22|        0.0|            0.8|             0.2|                 198|                      20|                        26|           6.8|    3.9|                       1.3|    0|[22.0,0.0,0.8,0.2...|[9.52643986745040...|[0.47632199337252...|       1.0|\n",
      "| 22|        0.0|            0.9|             0.3|                 179|                      18|                        21|           6.7|    3.7|                       1.2|    1|[22.0,0.0,0.9,0.3...|[7.25376295521371...|[0.36268814776068...|       1.0|\n",
      "| 22|        1.0|            2.2|             1.0|                 215|                     159|                        51|           5.5|    2.5|                       0.8|    0|[22.0,1.0,2.2,1.0...|[12.1920713433867...|[0.60960356716933...|       0.0|\n",
      "| 24|        0.0|            3.3|             1.6|                 174|                      11|                        33|           7.6|    3.9|                       1.0|    1|[24.0,0.0,3.3,1.6...|[17.5133314397246...|[0.87566657198623...|       0.0|\n",
      "| 25|        1.0|            0.9|             0.3|                 159|                      24|                        25|           6.9|    4.4|                       1.7|    1|[25.0,1.0,0.9,0.3...|[7.14589844647973...|[0.35729492232398...|       1.0|\n",
      "| 26|        0.0|            2.0|             0.9|                 195|                      24|                        65|           7.8|    4.3|                       1.2|    0|[26.0,0.0,2.0,0.9...|[14.0439777939368...|[0.70219888969684...|       0.0|\n",
      "| 29|        0.0|            1.2|             0.4|                 160|                      20|                        22|           6.2|    3.0|                       0.9|    1|[29.0,0.0,1.2,0.4...|[11.7315311841134...|[0.58657655920567...|       0.0|\n",
      "| 30|        1.0|            0.8|             0.2|                 158|                      25|                        22|           7.9|    4.5|                       1.3|    1|[30.0,1.0,0.8,0.2...|[10.9541529035278...|[0.54770764517639...|       0.0|\n",
      "| 31|        0.0|            0.8|             0.2|                 198|                      43|                        31|           7.3|    4.0|                       1.2|    0|[31.0,0.0,0.8,0.2...|[9.39169936852944...|[0.46958496842647...|       1.0|\n",
      "+---+-----------+---------------+----------------+--------------------+------------------------+--------------------------+--------------+-------+--------------------------+-----+--------------------+--------------------+--------------------+----------+\n",
      "only showing top 20 rows\n",
      "\n"
     ]
    }
   ],
   "source": [
    "# Make predictions on the test data\n",
    "predictions = model.transform(test_data)\n",
    "predictions.show()"
   ]
  },
  {
   "cell_type": "code",
   "execution_count": 18,
   "id": "56008f63",
   "metadata": {},
   "outputs": [
    {
     "name": "stdout",
     "output_type": "stream",
     "text": [
      "Area under ROC curve: 0.7388429752066117\n"
     ]
    }
   ],
   "source": [
    "# Evaluate the model using the area under the ROC curve\n",
    "evaluator = BinaryClassificationEvaluator(labelCol=\"label\")\n",
    "auc = evaluator.evaluate(predictions)\n",
    "\n",
    "print(\"Area under ROC curve:\", auc)\n",
    "\n",
    "# Stop the SparkSession\n",
    "spark.stop()"
   ]
  }
 ],
 "metadata": {
  "kernelspec": {
   "display_name": "Python 3 (ipykernel)",
   "language": "python",
   "name": "python3"
  },
  "language_info": {
   "codemirror_mode": {
    "name": "ipython",
    "version": 3
   },
   "file_extension": ".py",
   "mimetype": "text/x-python",
   "name": "python",
   "nbconvert_exporter": "python",
   "pygments_lexer": "ipython3",
   "version": "3.9.16"
  }
 },
 "nbformat": 4,
 "nbformat_minor": 5
}
