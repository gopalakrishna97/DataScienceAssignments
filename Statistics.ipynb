{
 "cells": [
  {
   "cell_type": "markdown",
   "id": "9c534aa9",
   "metadata": {},
   "source": [
    "## Q-1.\n",
    "A university wants to understand the relationship between the SAT scores of its applicants and their college GPA. \n",
    "They collect data on 500 students, including their SAT scores (out of 1600) and their college GPA (on a 4.0 scale). \n",
    "They find that the correlation coefficient between SAT scores and college GPA is 0.7. \n",
    "What does this correlation coefficient indicate about the relationship between SAT scores and college GPA?\n",
    "\n",
    "**ANS:** the correlation  coefficient  between SAT scores and college GPA is 0.7. that means, both are  having positive correlation of 70% between them.\n",
    "Suppose for a student  college GPA is good, then there is 70% chance of getting the good score in SAT score also.\n"
   ]
  },
  {
   "cell_type": "markdown",
   "id": "1780e30b",
   "metadata": {},
   "source": [
    "## Q-2. \n",
    "Consider a dataset containing the heights (in centimeters) of 1000 individuals. The mean height is 170 cm with a standard deviation of 10 cm. The dataset is approximately normally distributed, and its skewness is approximately zero.\n",
    " Based on this information, answer the following questions:\n",
    "**a. What percentage of individuals in the dataset have heights between 160 cm and 180 cm?**\n",
    "\n",
    "ANS: we have the mean height is 170cm and standard deviation is 10cm that means 170±10cms, Lower limit is 160cms and upper limit is 180cms. So, the percentage of data in between 160cms and 180cms is approximately 100%\n",
    "\n",
    "**b. If we randomly select 100 individuals from the dataset, what is the probability that their average height is greater than 175 cm?**\n",
    "\n",
    "ANS:\n",
    "- n =100        x¯ = 175 cm   µ = 170cm    σ = 10cm\n",
    "- z-score = (x¯-µ )/(σ )   \n",
    "- \t= (175-170)/10 = 0.5\n",
    "- Since the z-score is 0.5 the the probability of average height is greater than 175 cm is 69.14%\n",
    "\n",
    "**c. Assuming the dataset follows a normal distribution, what is the z-score corresponding to a height of 185 cm?**\n",
    "\n",
    "ANS:\n",
    "- z-score = (x¯-µ )/(σ )   \n",
    "- \t= (185-170)/10 = 1.5\n",
    "    \n",
    "**d. We know that 5% of the dataset has heights below a certain value. What is the approximate height corresponding to this threshold?** \n",
    "\n",
    "ANS:\n",
    "- Lower C.I = point of estimate – margin of error\n",
    "-\t      = 170 - Z_(0.05/2) (σ )/√n\n",
    "-\t      = 170 – 1.96 * 10/√100\n",
    "-                 =  170- 1.96*1 = 168.04\n",
    "                  \n",
    "**e. Calculate the coefficient of variation (CV) for the dataset.**\n",
    "- ANS:  coefficient of variation (CV) is  (σ )/(µ )  =   (10 )/170  = 0.0588\n",
    "\n",
    "**f. Calculate the skewness of the dataset and interpret the result.**\n",
    "\n",
    "- Pearson’s median skewness  = 3*(mean-median)/standard deviation\n",
    "\t\t\t\t\t\t\t= 3* (170-170)/10 = 0 \n"
   ]
  },
  {
   "cell_type": "markdown",
   "id": "8893b5ed",
   "metadata": {},
   "source": [
    "## Q-3. \n",
    "Consider the ‘Blood Pressure Before’ and ‘Blood Pressure After’ columns from the data and calculate the following \n",
    "\n",
    "https://drive.google.com/file/d/1mCjtYHiX--mMUjicuaP2gH3k-SnFxt8Y/view?usp=share_ \n",
    "    \n",
    "a. Measure the dispersion in both and interpret the results. \n",
    "\n",
    "b. Calculate mean and 5% confidence interval and plot it in a graph.\n",
    "\n",
    "c. Calculate the Mean absolute deviation and Standard deviation and interpret the results. \n",
    "\n",
    "d. Calculate the correlation coefficient and check the significance of it at 1% level of significance.\n"
   ]
  },
  {
   "cell_type": "code",
   "execution_count": 5,
   "id": "935582f9",
   "metadata": {
    "scrolled": false
   },
   "outputs": [],
   "source": [
    "import pandas as pd\n",
    "\n",
    "data1 = pd.read_csv('data.csv')"
   ]
  },
  {
   "cell_type": "code",
   "execution_count": 6,
   "id": "1ac9a12f",
   "metadata": {},
   "outputs": [
    {
     "data": {
      "text/html": [
       "<div>\n",
       "<style scoped>\n",
       "    .dataframe tbody tr th:only-of-type {\n",
       "        vertical-align: middle;\n",
       "    }\n",
       "\n",
       "    .dataframe tbody tr th {\n",
       "        vertical-align: top;\n",
       "    }\n",
       "\n",
       "    .dataframe thead th {\n",
       "        text-align: right;\n",
       "    }\n",
       "</style>\n",
       "<table border=\"1\" class=\"dataframe\">\n",
       "  <thead>\n",
       "    <tr style=\"text-align: right;\">\n",
       "      <th></th>\n",
       "      <th>Patient ID</th>\n",
       "      <th>Blood Pressure Before (mmHg)</th>\n",
       "      <th>Blood Pressure After (mmHg)</th>\n",
       "    </tr>\n",
       "  </thead>\n",
       "  <tbody>\n",
       "    <tr>\n",
       "      <th>0</th>\n",
       "      <td>1</td>\n",
       "      <td>130</td>\n",
       "      <td>120</td>\n",
       "    </tr>\n",
       "    <tr>\n",
       "      <th>1</th>\n",
       "      <td>2</td>\n",
       "      <td>142</td>\n",
       "      <td>135</td>\n",
       "    </tr>\n",
       "    <tr>\n",
       "      <th>2</th>\n",
       "      <td>3</td>\n",
       "      <td>120</td>\n",
       "      <td>118</td>\n",
       "    </tr>\n",
       "    <tr>\n",
       "      <th>3</th>\n",
       "      <td>4</td>\n",
       "      <td>135</td>\n",
       "      <td>127</td>\n",
       "    </tr>\n",
       "    <tr>\n",
       "      <th>4</th>\n",
       "      <td>5</td>\n",
       "      <td>148</td>\n",
       "      <td>140</td>\n",
       "    </tr>\n",
       "    <tr>\n",
       "      <th>...</th>\n",
       "      <td>...</td>\n",
       "      <td>...</td>\n",
       "      <td>...</td>\n",
       "    </tr>\n",
       "    <tr>\n",
       "      <th>95</th>\n",
       "      <td>96</td>\n",
       "      <td>136</td>\n",
       "      <td>129</td>\n",
       "    </tr>\n",
       "    <tr>\n",
       "      <th>96</th>\n",
       "      <td>97</td>\n",
       "      <td>143</td>\n",
       "      <td>137</td>\n",
       "    </tr>\n",
       "    <tr>\n",
       "      <th>97</th>\n",
       "      <td>98</td>\n",
       "      <td>127</td>\n",
       "      <td>123</td>\n",
       "    </tr>\n",
       "    <tr>\n",
       "      <th>98</th>\n",
       "      <td>99</td>\n",
       "      <td>139</td>\n",
       "      <td>135</td>\n",
       "    </tr>\n",
       "    <tr>\n",
       "      <th>99</th>\n",
       "      <td>100</td>\n",
       "      <td>135</td>\n",
       "      <td>130</td>\n",
       "    </tr>\n",
       "  </tbody>\n",
       "</table>\n",
       "<p>100 rows × 3 columns</p>\n",
       "</div>"
      ],
      "text/plain": [
       "    Patient ID   Blood Pressure Before (mmHg)   Blood Pressure After (mmHg)\n",
       "0            1                            130                           120\n",
       "1            2                            142                           135\n",
       "2            3                            120                           118\n",
       "3            4                            135                           127\n",
       "4            5                            148                           140\n",
       "..         ...                            ...                           ...\n",
       "95          96                            136                           129\n",
       "96          97                            143                           137\n",
       "97          98                            127                           123\n",
       "98          99                            139                           135\n",
       "99         100                            135                           130\n",
       "\n",
       "[100 rows x 3 columns]"
      ]
     },
     "execution_count": 6,
     "metadata": {},
     "output_type": "execute_result"
    }
   ],
   "source": [
    "data1."
   ]
  },
  {
   "cell_type": "code",
   "execution_count": 12,
   "id": "ea99e7e8",
   "metadata": {},
   "outputs": [
    {
     "data": {
      "text/plain": [
       "Index(['Patient ID', ' Blood Pressure Before (mmHg)',\n",
       "       ' Blood Pressure After (mmHg)'],\n",
       "      dtype='object')"
      ]
     },
     "execution_count": 12,
     "metadata": {},
     "output_type": "execute_result"
    }
   ],
   "source": [
    "data1.columns"
   ]
  },
  {
   "cell_type": "markdown",
   "id": "5bd3162c",
   "metadata": {},
   "source": [
    "### a. Measure the dispersion in both and interpret the results."
   ]
  },
  {
   "cell_type": "code",
   "execution_count": 14,
   "id": "de6b7074",
   "metadata": {},
   "outputs": [
    {
     "data": {
      "text/plain": [
       " Blood Pressure Before (mmHg)    6.598278\n",
       " Blood Pressure After (mmHg)     6.888022\n",
       "dtype: float64"
      ]
     },
     "execution_count": 14,
     "metadata": {},
     "output_type": "execute_result"
    }
   ],
   "source": [
    "## Standard Deviation\n",
    "data1[[' Blood Pressure Before (mmHg)',' Blood Pressure After (mmHg)']].std()"
   ]
  },
  {
   "cell_type": "code",
   "execution_count": 15,
   "id": "39ad2d04",
   "metadata": {},
   "outputs": [
    {
     "data": {
      "text/plain": [
       " Blood Pressure Before (mmHg)    43.537273\n",
       " Blood Pressure After (mmHg)     47.444848\n",
       "dtype: float64"
      ]
     },
     "execution_count": 15,
     "metadata": {},
     "output_type": "execute_result"
    }
   ],
   "source": [
    "## Variance\n",
    "data1[[' Blood Pressure Before (mmHg)',' Blood Pressure After (mmHg)']].var()"
   ]
  },
  {
   "cell_type": "markdown",
   "id": "ac6b86de",
   "metadata": {},
   "source": [
    "### b. Calculate mean and 5% confidence interval and plot it in a graph."
   ]
  },
  {
   "cell_type": "code",
   "execution_count": 16,
   "id": "00273396",
   "metadata": {},
   "outputs": [
    {
     "data": {
      "text/plain": [
       "Patient ID                        50.50\n",
       " Blood Pressure Before (mmHg)    133.91\n",
       " Blood Pressure After (mmHg)     128.36\n",
       "dtype: float64"
      ]
     },
     "execution_count": 16,
     "metadata": {},
     "output_type": "execute_result"
    }
   ],
   "source": [
    "data1.mean()"
   ]
  },
  {
   "cell_type": "code",
   "execution_count": 26,
   "id": "6fc08f4e",
   "metadata": {},
   "outputs": [],
   "source": [
    "import numpy as np \n",
    "from scipy.stats import t"
   ]
  },
  {
   "cell_type": "code",
   "execution_count": 30,
   "id": "e3369360",
   "metadata": {},
   "outputs": [
    {
     "data": {
      "text/plain": [
       "(132.60075849172767, 135.21924150827232)"
      ]
     },
     "execution_count": 30,
     "metadata": {},
     "output_type": "execute_result"
    }
   ],
   "source": [
    "x = data1[' Blood Pressure Before (mmHg)']\n",
    "m = x.mean() \n",
    "s = x.std() \n",
    "dof = len(x)-1 \n",
    "confidence = 0.95\n",
    "t_crit = np.abs(t.ppf((1-confidence)/2,dof))\n",
    "(m-s*t_crit/np.sqrt(len(x)), m+s*t_crit/np.sqrt(len(x))) "
   ]
  },
  {
   "cell_type": "code",
   "execution_count": 31,
   "id": "b73a1128",
   "metadata": {},
   "outputs": [
    {
     "data": {
      "text/plain": [
       "(126.99326697818071, 129.7267330218193)"
      ]
     },
     "execution_count": 31,
     "metadata": {},
     "output_type": "execute_result"
    }
   ],
   "source": [
    "y = data1[' Blood Pressure After (mmHg)']\n",
    "m = y.mean() \n",
    "s = y.std() \n",
    "dof = len(y)-1 \n",
    "confidence = 0.95\n",
    "t_crit = np.abs(t.ppf((1-confidence)/2,dof))\n",
    "(m-s*t_crit/np.sqrt(len(y)), m+s*t_crit/np.sqrt(len(y))) "
   ]
  },
  {
   "cell_type": "code",
   "execution_count": 24,
   "id": "81040275",
   "metadata": {},
   "outputs": [
    {
     "data": {
      "image/png": "[encoded data removed]",
      "text/plain": [
       "<Figure size 432x288 with 1 Axes>"
      ]
     },
     "metadata": {
      "needs_background": "light"
     },
     "output_type": "display_data"
    }
   ],
   "source": [
    "import seaborn as sns\n",
    "ax = sns.lineplot(x=data1[' Blood Pressure Before (mmHg)'], y=data1[' Blood Pressure After (mmHg)'], ci=95)"
   ]
  },
  {
   "cell_type": "markdown",
   "id": "8f1e02a6",
   "metadata": {},
   "source": [
    "### c. Calculate the Mean absolute deviation and Standard deviation and interpret the results."
   ]
  },
  {
   "cell_type": "code",
   "execution_count": 35,
   "id": "04e45e0b",
   "metadata": {},
   "outputs": [
    {
     "data": {
      "text/plain": [
       " Blood Pressure Before (mmHg)    5.7118\n",
       " Blood Pressure After (mmHg)     5.9000\n",
       "dtype: float64"
      ]
     },
     "execution_count": 35,
     "metadata": {},
     "output_type": "execute_result"
    }
   ],
   "source": [
    "## Mean absolute deviation\n",
    "data1[[' Blood Pressure Before (mmHg)',' Blood Pressure After (mmHg)']].mad()"
   ]
  },
  {
   "cell_type": "code",
   "execution_count": 36,
   "id": "f50b74e8",
   "metadata": {},
   "outputs": [
    {
     "data": {
      "text/plain": [
       " Blood Pressure Before (mmHg)    6.598278\n",
       " Blood Pressure After (mmHg)     6.888022\n",
       "dtype: float64"
      ]
     },
     "execution_count": 36,
     "metadata": {},
     "output_type": "execute_result"
    }
   ],
   "source": [
    "## Standard deviation\n",
    "data1[[' Blood Pressure Before (mmHg)',' Blood Pressure After (mmHg)']].std()"
   ]
  },
  {
   "cell_type": "markdown",
   "id": "216b0810",
   "metadata": {},
   "source": [
    "### d. Calculate the correlation coefficient and check the significance of it at 1% level of significance."
   ]
  },
  {
   "cell_type": "code",
   "execution_count": 37,
   "id": "c7d8d5b3",
   "metadata": {},
   "outputs": [
    {
     "data": {
      "text/html": [
       "<div>\n",
       "<style scoped>\n",
       "    .dataframe tbody tr th:only-of-type {\n",
       "        vertical-align: middle;\n",
       "    }\n",
       "\n",
       "    .dataframe tbody tr th {\n",
       "        vertical-align: top;\n",
       "    }\n",
       "\n",
       "    .dataframe thead th {\n",
       "        text-align: right;\n",
       "    }\n",
       "</style>\n",
       "<table border=\"1\" class=\"dataframe\">\n",
       "  <thead>\n",
       "    <tr style=\"text-align: right;\">\n",
       "      <th></th>\n",
       "      <th>Blood Pressure Before (mmHg)</th>\n",
       "      <th>Blood Pressure After (mmHg)</th>\n",
       "    </tr>\n",
       "  </thead>\n",
       "  <tbody>\n",
       "    <tr>\n",
       "      <th>Blood Pressure Before (mmHg)</th>\n",
       "      <td>1.000000</td>\n",
       "      <td>0.977949</td>\n",
       "    </tr>\n",
       "    <tr>\n",
       "      <th>Blood Pressure After (mmHg)</th>\n",
       "      <td>0.977949</td>\n",
       "      <td>1.000000</td>\n",
       "    </tr>\n",
       "  </tbody>\n",
       "</table>\n",
       "</div>"
      ],
      "text/plain": [
       "                                Blood Pressure Before (mmHg)  \\\n",
       " Blood Pressure Before (mmHg)                       1.000000   \n",
       " Blood Pressure After (mmHg)                        0.977949   \n",
       "\n",
       "                                Blood Pressure After (mmHg)  \n",
       " Blood Pressure Before (mmHg)                      0.977949  \n",
       " Blood Pressure After (mmHg)                       1.000000  "
      ]
     },
     "execution_count": 37,
     "metadata": {},
     "output_type": "execute_result"
    }
   ],
   "source": [
    "data1[[' Blood Pressure Before (mmHg)',' Blood Pressure After (mmHg)']].corr()"
   ]
  },
  {
   "cell_type": "markdown",
   "id": "d5904647",
   "metadata": {},
   "source": [
    "correlation coefficient(r) = 0.97,\n",
    "n = 100\n",
    "\n",
    "null Hypothesis = 0\n",
    "\n",
    "altenate Hypothesis ≠ 0\n",
    "\n",
    "<img src=\"https://fabian-kostadinov.github.io/public/img/20141030-t-value-formula.png\">\n",
    "\n",
    "\n",
    "\n"
   ]
  },
  {
   "cell_type": "markdown",
   "id": "c8daa9df",
   "metadata": {},
   "source": [
    " cal_t =  (0.97*√(100-2))/√(1-(0.97)^2 )\n",
    " \n",
    " cal_t = 39.49\n",
    "    \n",
    "    \n",
    "    the table t value is 2.617\n",
    "    \n",
    "    therefore the calculated t value of is tc > table_t\n",
    "hence null hypothesis is rejected,\n",
    "there is a relation between the two variables"
   ]
  },
  {
   "cell_type": "markdown",
   "id": "0b4f8a3b",
   "metadata": {},
   "source": [
    "## Q-4.\n",
    "A group of 20 friends decide to play a game in which they each write a number\n",
    "between 1 and 20 on a slip of paper and put it into a hat. They then draw one slip of paper\n",
    "at random. What is the probability that the number on the slip of paper is a perfect square\n",
    "(i.e., 1, 4, 9, or 16)?\n"
   ]
  },
  {
   "cell_type": "markdown",
   "id": "8ac99a76",
   "metadata": {},
   "source": [
    "**ANS:**\n",
    "\n",
    "Probability = Number of favorable outcomes / Total number of outcomes\n",
    "\n",
    "P(squares) = 4/20 = 0.2\n",
    "\n",
    "therefore  20% probability is there to pick a perfect square"
   ]
  },
  {
   "cell_type": "markdown",
   "id": "2bdab6af",
   "metadata": {},
   "source": [
    "## Q-5.\n",
    "A certain city has two taxi companies: Company A has 80% of the taxis and\n",
    "Company B has 20% of the taxis. Company A's taxis have a 95% success rate for picking\n",
    "up passengers on time, while Company B's taxis have a 90% success rate. If a randomly\n",
    "selected taxi is late, what is the probability that it belongs to Company A?"
   ]
  },
  {
   "cell_type": "markdown",
   "id": "fb64eff9",
   "metadata": {},
   "source": [
    "**ANS**\n",
    "\n",
    "To determine the probability that a randomly selected late taxi belongs to Company A, we can use Bayes' theorem.\n",
    "\n",
    "Let's define the events:\n",
    "A: The taxi belongs to Company A.\n",
    "B: The taxi is late.\n",
    "\n",
    "We are given the following probabilities:\n",
    "P(A) = 0.8 (Company A has 80% of the taxis)\n",
    "P(B|A) = 0.05 (Company A's taxis have a 95% success rate, so the probability of being late is 1 - 0.95 = 0.05)\n",
    "P(B|not A) = 0.10 (Company B's taxis have a 90% success rate, so the probability of being late is 1 - 0.90 = 0.10)\n",
    "\n",
    "We want to find P(A|B), the probability that the taxi belongs to Company A given that it is late.\n",
    "\n",
    "Using Bayes' theorem, we have:\n",
    "P(A|B) = (P(B|A) * P(A)) / P(B)\n",
    "\n",
    "P(B) can be calculated using the law of total probability, which considers the probabilities of being late for both Company A and Company B:\n",
    "\n",
    "P(B) = P(B|A) * P(A) + P(B|not A) * P(not A)\n",
    "\n",
    "P(not A) can be calculated as 1 - P(A).\n",
    "\n",
    "Plugging in the values:\n",
    "P(B) = (0.05 * 0.8) + (0.10 * 0.2) = 0.04 + 0.02 = 0.06\n",
    "\n",
    "P(A|B) = (0.05 * 0.8) / 0.06 = 0.04 / 0.06 ≈ 0.6667\n",
    "\n",
    "Therefore, the probability that a randomly selected late taxi belongs to Company A is approximately 0.6667 or 66.67%."
   ]
  },
  {
   "cell_type": "markdown",
   "id": "d3cd3d36",
   "metadata": {},
   "source": [
    "## Q-6. \n",
    "A pharmaceutical company is developing a drug that is supposed to reduce blood\n",
    "pressure. They conduct a clinical trial with 100 patients and record their blood\n",
    "pressure before and after taking the drug. The company wants to know if the change\n",
    "in blood pressure follows a normal distribution.\n",
    "\n",
    "https://drive.google.com/file/d/1mCjtYHiX--mMUjicuaP2gH3k-SnFxt8Y/view?usp=share_"
   ]
  },
  {
   "cell_type": "code",
   "execution_count": 39,
   "id": "a9544ca0",
   "metadata": {},
   "outputs": [
    {
     "data": {
      "text/html": [
       "<div>\n",
       "<style scoped>\n",
       "    .dataframe tbody tr th:only-of-type {\n",
       "        vertical-align: middle;\n",
       "    }\n",
       "\n",
       "    .dataframe tbody tr th {\n",
       "        vertical-align: top;\n",
       "    }\n",
       "\n",
       "    .dataframe thead th {\n",
       "        text-align: right;\n",
       "    }\n",
       "</style>\n",
       "<table border=\"1\" class=\"dataframe\">\n",
       "  <thead>\n",
       "    <tr style=\"text-align: right;\">\n",
       "      <th></th>\n",
       "      <th>Patient ID</th>\n",
       "      <th>Blood Pressure Before (mmHg)</th>\n",
       "      <th>Blood Pressure After (mmHg)</th>\n",
       "    </tr>\n",
       "  </thead>\n",
       "  <tbody>\n",
       "    <tr>\n",
       "      <th>0</th>\n",
       "      <td>1</td>\n",
       "      <td>130</td>\n",
       "      <td>120</td>\n",
       "    </tr>\n",
       "    <tr>\n",
       "      <th>1</th>\n",
       "      <td>2</td>\n",
       "      <td>142</td>\n",
       "      <td>135</td>\n",
       "    </tr>\n",
       "    <tr>\n",
       "      <th>2</th>\n",
       "      <td>3</td>\n",
       "      <td>120</td>\n",
       "      <td>118</td>\n",
       "    </tr>\n",
       "    <tr>\n",
       "      <th>3</th>\n",
       "      <td>4</td>\n",
       "      <td>135</td>\n",
       "      <td>127</td>\n",
       "    </tr>\n",
       "    <tr>\n",
       "      <th>4</th>\n",
       "      <td>5</td>\n",
       "      <td>148</td>\n",
       "      <td>140</td>\n",
       "    </tr>\n",
       "    <tr>\n",
       "      <th>...</th>\n",
       "      <td>...</td>\n",
       "      <td>...</td>\n",
       "      <td>...</td>\n",
       "    </tr>\n",
       "    <tr>\n",
       "      <th>95</th>\n",
       "      <td>96</td>\n",
       "      <td>136</td>\n",
       "      <td>129</td>\n",
       "    </tr>\n",
       "    <tr>\n",
       "      <th>96</th>\n",
       "      <td>97</td>\n",
       "      <td>143</td>\n",
       "      <td>137</td>\n",
       "    </tr>\n",
       "    <tr>\n",
       "      <th>97</th>\n",
       "      <td>98</td>\n",
       "      <td>127</td>\n",
       "      <td>123</td>\n",
       "    </tr>\n",
       "    <tr>\n",
       "      <th>98</th>\n",
       "      <td>99</td>\n",
       "      <td>139</td>\n",
       "      <td>135</td>\n",
       "    </tr>\n",
       "    <tr>\n",
       "      <th>99</th>\n",
       "      <td>100</td>\n",
       "      <td>135</td>\n",
       "      <td>130</td>\n",
       "    </tr>\n",
       "  </tbody>\n",
       "</table>\n",
       "<p>100 rows × 3 columns</p>\n",
       "</div>"
      ],
      "text/plain": [
       "    Patient ID   Blood Pressure Before (mmHg)   Blood Pressure After (mmHg)\n",
       "0            1                            130                           120\n",
       "1            2                            142                           135\n",
       "2            3                            120                           118\n",
       "3            4                            135                           127\n",
       "4            5                            148                           140\n",
       "..         ...                            ...                           ...\n",
       "95          96                            136                           129\n",
       "96          97                            143                           137\n",
       "97          98                            127                           123\n",
       "98          99                            139                           135\n",
       "99         100                            135                           130\n",
       "\n",
       "[100 rows x 3 columns]"
      ]
     },
     "execution_count": 39,
     "metadata": {},
     "output_type": "execute_result"
    }
   ],
   "source": [
    "import pandas as pd\n",
    "data6 = pd.read_csv('data.csv')\n",
    "data6"
   ]
  },
  {
   "cell_type": "code",
   "execution_count": 42,
   "id": "dc79cdb1",
   "metadata": {},
   "outputs": [
    {
     "name": "stderr",
     "output_type": "stream",
     "text": [
      "C:\\Users\\dell\\anaconda3\\lib\\site-packages\\seaborn\\distributions.py:2619: FutureWarning: `distplot` is a deprecated function and will be removed in a future version. Please adapt your code to use either `displot` (a figure-level function with similar flexibility) or `histplot` (an axes-level function for histograms).\n",
      "  warnings.warn(msg, FutureWarning)\n"
     ]
    },
    {
     "data": {
      "text/plain": [
       "<AxesSubplot:xlabel=' Blood Pressure Before (mmHg)', ylabel='Density'>"
      ]
     },
     "execution_count": 42,
     "metadata": {},
     "output_type": "execute_result"
    },
    {
     "data": {
      "image/png": "[encoded data removed]",
      "text/plain": [
       "<Figure size 432x288 with 1 Axes>"
      ]
     },
     "metadata": {
      "needs_background": "light"
     },
     "output_type": "display_data"
    }
   ],
   "source": [
    "sns.distplot(data6[' Blood Pressure Before (mmHg)'])"
   ]
  },
  {
   "cell_type": "code",
   "execution_count": 43,
   "id": "925ce4a5",
   "metadata": {},
   "outputs": [
    {
     "name": "stderr",
     "output_type": "stream",
     "text": [
      "C:\\Users\\dell\\anaconda3\\lib\\site-packages\\seaborn\\distributions.py:2619: FutureWarning: `distplot` is a deprecated function and will be removed in a future version. Please adapt your code to use either `displot` (a figure-level function with similar flexibility) or `histplot` (an axes-level function for histograms).\n",
      "  warnings.warn(msg, FutureWarning)\n"
     ]
    },
    {
     "data": {
      "text/plain": [
       "<AxesSubplot:xlabel=' Blood Pressure After (mmHg)', ylabel='Density'>"
      ]
     },
     "execution_count": 43,
     "metadata": {},
     "output_type": "execute_result"
    },
    {
     "data": {
      "image/png": "[encoded data removed]",
      "text/plain": [
       "<Figure size 432x288 with 1 Axes>"
      ]
     },
     "metadata": {
      "needs_background": "light"
     },
     "output_type": "display_data"
    }
   ],
   "source": [
    "sns.distplot(data6[' Blood Pressure After (mmHg)'])"
   ]
  },
  {
   "cell_type": "markdown",
   "id": "b693f14a",
   "metadata": {},
   "source": [
    "The Change in Blood pressure doesnot follows the normal distribution,\n",
    "it is right skewed"
   ]
  },
  {
   "cell_type": "markdown",
   "id": "450b305f",
   "metadata": {},
   "source": [
    "## Q-7. \n",
    "The equations of two lines of regression, obtained in a correlation analysis\n",
    "between variables X and Y are as follows:\n",
    "\n",
    "and . 2𝑋 + 3 − 8 = 0 2𝑌 + 𝑋 − 5 = 0 The variance of 𝑋 = 4 Find the\n",
    "\n",
    "a. Variance of Y\n",
    "\n",
    "b. Coefficient of determination of C and Y\n",
    "\n",
    "c. Standard error of estimate of X on Y and of Y on X."
   ]
  },
  {
   "cell_type": "markdown",
   "id": "86bb8175",
   "metadata": {},
   "source": [
    "**ANS:**\n",
    "\n",
    "2X + 3 - 8 = 0\n",
    "=>2X - 5 = 0\n",
    "\n",
    "X = 5/2 = 2.5\n",
    "\n",
    "2Y + X - 5 = 0\n",
    "=>2Y + 2.5 - 5 = 0\n",
    "=>2Y - 2.5 = 0\n",
    "\n",
    "Y = 2.5/2 = 1.25\n",
    "\n",
    "**a. Variance of Y**\n",
    "\n",
    "The variance of X is given as 4. The variance of Y can be calculated using the formula:\n",
    "\n",
    "Var(Y) = Var(X) × (Slope of Y on X)²\n",
    "\n",
    "Since the slope of Y on X is 2, we have:\n",
    "\n",
    "Var(Y) = 4 × (2)²\n",
    "= 4 × 4\n",
    "= 16\n",
    "\n",
    "**b. Coefficient of determination of X and Y**\n",
    "\n",
    "The coefficient of determination (R²) represents the proportion of the variance in the dependent variable (Y) that can be explained by the independent variable (X). It is calculated as the square of the correlation coefficient (r).\n",
    "\n",
    "In this case, the correlation coefficient (r) is the square root of the product of the slopes of X on Y and Y on X:\n",
    "\n",
    "r = √((Slope of X on Y) × (Slope of Y on X))\n",
    "= √((2) × (2))\n",
    "= √(4)\n",
    "= 2\n",
    "\n",
    "the coefficient of determination (R²) = r²\n",
    "= 2²\n",
    "= 4\n",
    "\n",
    "**c. Standard error of estimate of X on Y and Y on X**\n",
    "\n",
    "The standard error of estimate represents the average amount of error you can expect in the predicted values of one variable (X or Y) given the other variable.\n",
    "\n",
    "For estimating X based on Y, the standard error of estimate (Sxy) is given by:\n",
    "\n",
    "Sxy = √((1 - R²) × Var(X))\n",
    "\n",
    "Sxy = √((1 - 4) × 4)\n",
    "= √(-12)\n",
    "= undefined (since the value inside the square root is negative)\n",
    "\n",
    "\n",
    "Similarly, for estimating Y based on X, the standard error of estimate (Syx) is given by:\n",
    "\n",
    "Syx = √((1 - R²) × Var(Y))\n",
    "\n",
    "Syx = √((1 - 4) × 16)\n",
    "= √(-32)\n",
    "= undefined (since the value inside the square root is negative)\n",
    "\n",
    "The standard error of estimate for estimating Y based on X is also undefined."
   ]
  },
  {
   "cell_type": "markdown",
   "id": "8174889b",
   "metadata": {},
   "source": [
    "## Q-8.\n",
    "The anxiety levels of 10 participants were measured before and after a new therapy.\n",
    "The scores are not normally distributed. Use the Wilcoxon signed-rank test to test whether\n",
    "the therapy had a significant effect on anxiety levels. The data is given below: Participant\n",
    "Before therapy After therapy Difference\n"
   ]
  },
  {
   "cell_type": "code",
   "execution_count": 46,
   "id": "92e7d325",
   "metadata": {},
   "outputs": [
    {
     "data": {
      "text/html": [
       "<div>\n",
       "<style scoped>\n",
       "    .dataframe tbody tr th:only-of-type {\n",
       "        vertical-align: middle;\n",
       "    }\n",
       "\n",
       "    .dataframe tbody tr th {\n",
       "        vertical-align: top;\n",
       "    }\n",
       "\n",
       "    .dataframe thead th {\n",
       "        text-align: right;\n",
       "    }\n",
       "</style>\n",
       "<table border=\"1\" class=\"dataframe\">\n",
       "  <thead>\n",
       "    <tr style=\"text-align: right;\">\n",
       "      <th></th>\n",
       "      <th>Participant</th>\n",
       "      <th>Before_therapy</th>\n",
       "      <th>After_therapy</th>\n",
       "      <th>Difference</th>\n",
       "    </tr>\n",
       "  </thead>\n",
       "  <tbody>\n",
       "    <tr>\n",
       "      <th>0</th>\n",
       "      <td>1</td>\n",
       "      <td>10</td>\n",
       "      <td>7</td>\n",
       "      <td>-3</td>\n",
       "    </tr>\n",
       "    <tr>\n",
       "      <th>1</th>\n",
       "      <td>2</td>\n",
       "      <td>8</td>\n",
       "      <td>6</td>\n",
       "      <td>-2</td>\n",
       "    </tr>\n",
       "    <tr>\n",
       "      <th>2</th>\n",
       "      <td>3</td>\n",
       "      <td>12</td>\n",
       "      <td>10</td>\n",
       "      <td>-2</td>\n",
       "    </tr>\n",
       "    <tr>\n",
       "      <th>3</th>\n",
       "      <td>4</td>\n",
       "      <td>15</td>\n",
       "      <td>12</td>\n",
       "      <td>-3</td>\n",
       "    </tr>\n",
       "    <tr>\n",
       "      <th>4</th>\n",
       "      <td>5</td>\n",
       "      <td>6</td>\n",
       "      <td>5</td>\n",
       "      <td>-1</td>\n",
       "    </tr>\n",
       "    <tr>\n",
       "      <th>5</th>\n",
       "      <td>6</td>\n",
       "      <td>9</td>\n",
       "      <td>8</td>\n",
       "      <td>-1</td>\n",
       "    </tr>\n",
       "    <tr>\n",
       "      <th>6</th>\n",
       "      <td>7</td>\n",
       "      <td>11</td>\n",
       "      <td>9</td>\n",
       "      <td>-2</td>\n",
       "    </tr>\n",
       "    <tr>\n",
       "      <th>7</th>\n",
       "      <td>8</td>\n",
       "      <td>7</td>\n",
       "      <td>6</td>\n",
       "      <td>-1</td>\n",
       "    </tr>\n",
       "    <tr>\n",
       "      <th>8</th>\n",
       "      <td>9</td>\n",
       "      <td>14</td>\n",
       "      <td>12</td>\n",
       "      <td>-2</td>\n",
       "    </tr>\n",
       "    <tr>\n",
       "      <th>9</th>\n",
       "      <td>10</td>\n",
       "      <td>10</td>\n",
       "      <td>8</td>\n",
       "      <td>-2</td>\n",
       "    </tr>\n",
       "  </tbody>\n",
       "</table>\n",
       "</div>"
      ],
      "text/plain": [
       "   Participant  Before_therapy  After_therapy  Difference\n",
       "0            1              10              7          -3\n",
       "1            2               8              6          -2\n",
       "2            3              12             10          -2\n",
       "3            4              15             12          -3\n",
       "4            5               6              5          -1\n",
       "5            6               9              8          -1\n",
       "6            7              11              9          -2\n",
       "7            8               7              6          -1\n",
       "8            9              14             12          -2\n",
       "9           10              10              8          -2"
      ]
     },
     "execution_count": 46,
     "metadata": {},
     "output_type": "execute_result"
    }
   ],
   "source": [
    "import pandas as pd\n",
    "from scipy.stats import wilcoxon\n",
    "\n",
    "# Create dummy data\n",
    "data = {\n",
    "    'Participant': range(1, 11),\n",
    "    'Before_therapy': [10, 8, 12, 15, 6, 9, 11, 7, 14, 10],\n",
    "    'After_therapy': [7, 6, 10, 12, 5, 8, 9, 6, 12, 8]\n",
    "}\n",
    "\n",
    "# Create DataFrame\n",
    "df = pd.DataFrame(data)\n",
    "\n",
    "# Calculate the differences\n",
    "df['Difference'] = df['After_therapy'] - df['Before_therapy']\n",
    "df"
   ]
  },
  {
   "cell_type": "code",
   "execution_count": 47,
   "id": "4911fe3f",
   "metadata": {},
   "outputs": [
    {
     "name": "stdout",
     "output_type": "stream",
     "text": [
      "Wilcoxon Signed-Rank Test:\n",
      "Test statistic: 0.0\n",
      "P-value: 0.001953125\n"
     ]
    }
   ],
   "source": [
    "# Perform the Wilcoxon signed-rank test\n",
    "statistic, p_value = wilcoxon(df['Difference'])\n",
    "\n",
    "# Output the results\n",
    "print(\"Wilcoxon Signed-Rank Test:\")\n",
    "print(f\"Test statistic: {statistic}\")\n",
    "print(f\"P-value: {p_value}\")"
   ]
  },
  {
   "cell_type": "markdown",
   "id": "98b3e898",
   "metadata": {},
   "source": [
    "Since the p-value (0.001953125) is less than the significance level (0.05), we reject the null hypothesis. This means that the therapy had a significant effect on anxiety levels."
   ]
  },
  {
   "cell_type": "markdown",
   "id": "6b4fc7e3",
   "metadata": {},
   "source": [
    "## Q-9.\n",
    "Given the score of students in multiple exams\n",
    "Test the hypothesis that the mean scores of all the students are the same. If not, name the\n",
    "student with the highest score."
   ]
  },
  {
   "cell_type": "code",
   "execution_count": 77,
   "id": "6399160e",
   "metadata": {},
   "outputs": [
    {
     "data": {
      "text/html": [
       "<div>\n",
       "<style scoped>\n",
       "    .dataframe tbody tr th:only-of-type {\n",
       "        vertical-align: middle;\n",
       "    }\n",
       "\n",
       "    .dataframe tbody tr th {\n",
       "        vertical-align: top;\n",
       "    }\n",
       "\n",
       "    .dataframe thead th {\n",
       "        text-align: right;\n",
       "    }\n",
       "</style>\n",
       "<table border=\"1\" class=\"dataframe\">\n",
       "  <thead>\n",
       "    <tr style=\"text-align: right;\">\n",
       "      <th></th>\n",
       "      <th>Name</th>\n",
       "      <th>Karan</th>\n",
       "      <th>Deepa</th>\n",
       "      <th>Karthik</th>\n",
       "      <th>Chandan</th>\n",
       "      <th>Jeevan</th>\n",
       "    </tr>\n",
       "  </thead>\n",
       "  <tbody>\n",
       "    <tr>\n",
       "      <th>0</th>\n",
       "      <td>Exam 1</td>\n",
       "      <td>85</td>\n",
       "      <td>70</td>\n",
       "      <td>90</td>\n",
       "      <td>75</td>\n",
       "      <td>95</td>\n",
       "    </tr>\n",
       "    <tr>\n",
       "      <th>1</th>\n",
       "      <td>Exam 2</td>\n",
       "      <td>90</td>\n",
       "      <td>80</td>\n",
       "      <td>85</td>\n",
       "      <td>70</td>\n",
       "      <td>92</td>\n",
       "    </tr>\n",
       "    <tr>\n",
       "      <th>2</th>\n",
       "      <td>Exam 3</td>\n",
       "      <td>92</td>\n",
       "      <td>85</td>\n",
       "      <td>88</td>\n",
       "      <td>75</td>\n",
       "      <td>96</td>\n",
       "    </tr>\n",
       "  </tbody>\n",
       "</table>\n",
       "</div>"
      ],
      "text/plain": [
       "     Name  Karan  Deepa  Karthik  Chandan  Jeevan\n",
       "0  Exam 1     85     70       90       75      95\n",
       "1  Exam 2     90     80       85       70      92\n",
       "2  Exam 3     92     85       88       75      96"
      ]
     },
     "execution_count": 77,
     "metadata": {},
     "output_type": "execute_result"
    }
   ],
   "source": [
    "import pandas as pd\n",
    "from scipy.stats import f_oneway\n",
    "\n",
    "# Create a DataFrame with student scores\n",
    "data = {\n",
    "    'Name': [\"Exam 1\", \"Exam 2\", \"Exam 3\"],\n",
    "    'Karan': [85, 90, 92],\n",
    "    'Deepa': [70, 80, 85],\n",
    "    'Karthik': [90, 85, 88],\n",
    "    'Chandan': [75, 70, 75],\n",
    "    'Jeevan': [95, 92, 96]\n",
    "}\n",
    "\n",
    "df = pd.DataFrame(data,index=None)\n",
    "df"
   ]
  },
  {
   "cell_type": "code",
   "execution_count": 78,
   "id": "b6b0eb58",
   "metadata": {},
   "outputs": [
    {
     "name": "stdout",
     "output_type": "stream",
     "text": [
      "One-Way ANOVA Test:\n",
      "Test statistic: 12.025830258302586\n",
      "P-value: 0.0007760917135044952\n"
     ]
    }
   ],
   "source": [
    "# Perform one-way ANOVA test\n",
    "statistic, p_value = f_oneway(df['Karan'], df['Deepa'], df['Karthik'], df['Chandan'], df['Jeevan'])\n",
    "\n",
    "# Output the results\n",
    "print(\"One-Way ANOVA Test:\")\n",
    "print(f\"Test statistic: {statistic}\")\n",
    "print(f\"P-value: {p_value}\")"
   ]
  },
  {
   "cell_type": "markdown",
   "id": "3e9767f2",
   "metadata": {},
   "source": [
    "the p-value is less than the significance level(assume as 0.05), we reject the null hypothesis and conclude that the mean scores are not the same for all students."
   ]
  },
  {
   "cell_type": "code",
   "execution_count": 81,
   "id": "9feef961",
   "metadata": {},
   "outputs": [
    {
     "name": "stderr",
     "output_type": "stream",
     "text": [
      "C:\\Users\\dell\\AppData\\Local\\Temp\\ipykernel_15160\\972437606.py:1: FutureWarning: Dropping of nuisance columns in DataFrame reductions (with 'numeric_only=None') is deprecated; in a future version this will raise TypeError.  Select only valid columns before calling the reduction.\n",
      "  df.mean()\n"
     ]
    },
    {
     "data": {
      "text/plain": [
       "Karan      89.000000\n",
       "Deepa      78.333333\n",
       "Karthik    87.666667\n",
       "Chandan    73.333333\n",
       "Jeevan     94.333333\n",
       "dtype: float64"
      ]
     },
     "execution_count": 81,
     "metadata": {},
     "output_type": "execute_result"
    }
   ],
   "source": [
    "df.mean()\n"
   ]
  },
  {
   "cell_type": "markdown",
   "id": "65001cf1",
   "metadata": {},
   "source": [
    "Jeevan has heighest mean score"
   ]
  },
  {
   "cell_type": "markdown",
   "id": "4ac5b692",
   "metadata": {},
   "source": [
    "## Q-10.\n",
    "A factory produces light bulbs, and the probability of a bulb being defective is 0.05.\n",
    "The factory produces a large batch of 500 light bulbs.\n",
    "\n",
    "a. What is the probability that exactly 20 bulbs are defective?\n",
    "\n",
    "b. What is the probability that at least 10 bulbs are defective?\n",
    "\n",
    "c. What is the probability that at max 15 bulbs are defective?\n",
    "\n",
    "d. On average, how many defective bulbs would you expect in a batch of 500"
   ]
  },
  {
   "cell_type": "markdown",
   "id": "4e4f803b",
   "metadata": {},
   "source": [
    "**ANS:**\n",
    "\n",
    "In this case:\n",
    "\n",
    "- The number of trials (n) is 500, as we have a batch of 500 light bulbs.\n",
    "- The probability of success (p) is 0.05, as the probability of a bulb being defective is 0.05.\n"
   ]
  },
  {
   "cell_type": "markdown",
   "id": "89ddd347",
   "metadata": {},
   "source": [
    "### a. What is the probability that exactly 20 bulbs are defective?"
   ]
  },
  {
   "cell_type": "code",
   "execution_count": 82,
   "id": "fb3345d3",
   "metadata": {},
   "outputs": [
    {
     "name": "stdout",
     "output_type": "stream",
     "text": [
      "Probability of exactly 20 bulbs being defective: 0.051616192536641056\n"
     ]
    }
   ],
   "source": [
    "\n",
    "from scipy.stats import binom\n",
    "\n",
    "n = 500\n",
    "p = 0.05\n",
    "k = 20\n",
    "\n",
    "probability_20_defective = binom.pmf(k, n, p)\n",
    "\n",
    "print(\"Probability of exactly 20 bulbs being defective:\", probability_20_defective)\n"
   ]
  },
  {
   "cell_type": "markdown",
   "id": "c67aa153",
   "metadata": {},
   "source": [
    "### b. What is the probability that at least 10 bulbs are defective?\n",
    "\n",
    "To find the probability that at least 10 bulbs are defective, we can calculate the cumulative probability using the cumulative distribution function (CDF) of the binomial distribution:\n",
    "\n",
    "P(X >= k) = 1 - P(X < k)"
   ]
  },
  {
   "cell_type": "code",
   "execution_count": 85,
   "id": "9b7e792a",
   "metadata": {},
   "outputs": [
    {
     "name": "stdout",
     "output_type": "stream",
     "text": [
      "Probability of at least 10 bulbs being defective: 0.9998316463654902\n"
     ]
    }
   ],
   "source": [
    "k = 10\n",
    "\n",
    "probability_at_least_10_defective = 1 - binom.cdf(k - 1, n, p)\n",
    "\n",
    "print(\"Probability of at least 10 bulbs being defective:\", probability_at_least_10_defective)\n"
   ]
  },
  {
   "cell_type": "markdown",
   "id": "25692ace",
   "metadata": {},
   "source": [
    "## c. What is the probability that at max 15 bulbs are defective?"
   ]
  },
  {
   "cell_type": "code",
   "execution_count": 86,
   "id": "0b56bf48",
   "metadata": {},
   "outputs": [
    {
     "name": "stdout",
     "output_type": "stream",
     "text": [
      "Probability of at most 15 bulbs being defective: 0.01985837716300623\n"
     ]
    }
   ],
   "source": [
    "k = 15\n",
    "\n",
    "probability_at_most_15_defective = binom.cdf(k, n, p)\n",
    "\n",
    "print(\"Probability of at most 15 bulbs being defective:\", probability_at_most_15_defective)\n"
   ]
  },
  {
   "cell_type": "markdown",
   "id": "a2603fa5",
   "metadata": {},
   "source": [
    "### d. On average, how many defective bulbs would you expect in a batch of 500\n",
    "\n",
    "The average number of defective bulbs in a batch of 500 can be calculated using the mean of the binomial distribution:\n",
    "\n",
    "μ = n * p"
   ]
  },
  {
   "cell_type": "code",
   "execution_count": 87,
   "id": "4b8b513b",
   "metadata": {},
   "outputs": [
    {
     "name": "stdout",
     "output_type": "stream",
     "text": [
      "Average number of defective bulbs in a batch of 500: 25.0\n"
     ]
    }
   ],
   "source": [
    "average_defective_bulbs = n * p\n",
    "\n",
    "print(\"Average number of defective bulbs in a batch of 500:\", average_defective_bulbs)\n"
   ]
  },
  {
   "cell_type": "markdown",
   "id": "98bcdcca",
   "metadata": {},
   "source": [
    "## Q-11.\n",
    "Given the data of a feature contributing to different classes\n",
    "\n",
    "https://drive.google.com/file/d/1mCjtYHiX--mMUjicuaP2gH3k-SnFxt8Y/view?usp=share_\n",
    "\n",
    "a. Check whether the distribution of all the classes are the same or not.\n",
    "\n",
    "b. Check for the equality of variance/\n",
    "\n",
    "c. Which amount LDA and QDA would perform better on this data for classification and why.\n",
    "\n",
    "d. Check the equality of mean for between all the classes."
   ]
  },
  {
   "cell_type": "code",
   "execution_count": 90,
   "id": "4e890b61",
   "metadata": {},
   "outputs": [
    {
     "data": {
      "text/html": [
       "<div>\n",
       "<style scoped>\n",
       "    .dataframe tbody tr th:only-of-type {\n",
       "        vertical-align: middle;\n",
       "    }\n",
       "\n",
       "    .dataframe tbody tr th {\n",
       "        vertical-align: top;\n",
       "    }\n",
       "\n",
       "    .dataframe thead th {\n",
       "        text-align: right;\n",
       "    }\n",
       "</style>\n",
       "<table border=\"1\" class=\"dataframe\">\n",
       "  <thead>\n",
       "    <tr style=\"text-align: right;\">\n",
       "      <th></th>\n",
       "      <th>Patient ID</th>\n",
       "      <th>Blood Pressure Before (mmHg)</th>\n",
       "      <th>Blood Pressure After (mmHg)</th>\n",
       "    </tr>\n",
       "  </thead>\n",
       "  <tbody>\n",
       "    <tr>\n",
       "      <th>0</th>\n",
       "      <td>1</td>\n",
       "      <td>130</td>\n",
       "      <td>120</td>\n",
       "    </tr>\n",
       "    <tr>\n",
       "      <th>1</th>\n",
       "      <td>2</td>\n",
       "      <td>142</td>\n",
       "      <td>135</td>\n",
       "    </tr>\n",
       "    <tr>\n",
       "      <th>2</th>\n",
       "      <td>3</td>\n",
       "      <td>120</td>\n",
       "      <td>118</td>\n",
       "    </tr>\n",
       "    <tr>\n",
       "      <th>3</th>\n",
       "      <td>4</td>\n",
       "      <td>135</td>\n",
       "      <td>127</td>\n",
       "    </tr>\n",
       "    <tr>\n",
       "      <th>4</th>\n",
       "      <td>5</td>\n",
       "      <td>148</td>\n",
       "      <td>140</td>\n",
       "    </tr>\n",
       "    <tr>\n",
       "      <th>...</th>\n",
       "      <td>...</td>\n",
       "      <td>...</td>\n",
       "      <td>...</td>\n",
       "    </tr>\n",
       "    <tr>\n",
       "      <th>95</th>\n",
       "      <td>96</td>\n",
       "      <td>136</td>\n",
       "      <td>129</td>\n",
       "    </tr>\n",
       "    <tr>\n",
       "      <th>96</th>\n",
       "      <td>97</td>\n",
       "      <td>143</td>\n",
       "      <td>137</td>\n",
       "    </tr>\n",
       "    <tr>\n",
       "      <th>97</th>\n",
       "      <td>98</td>\n",
       "      <td>127</td>\n",
       "      <td>123</td>\n",
       "    </tr>\n",
       "    <tr>\n",
       "      <th>98</th>\n",
       "      <td>99</td>\n",
       "      <td>139</td>\n",
       "      <td>135</td>\n",
       "    </tr>\n",
       "    <tr>\n",
       "      <th>99</th>\n",
       "      <td>100</td>\n",
       "      <td>135</td>\n",
       "      <td>130</td>\n",
       "    </tr>\n",
       "  </tbody>\n",
       "</table>\n",
       "<p>100 rows × 3 columns</p>\n",
       "</div>"
      ],
      "text/plain": [
       "    Patient ID   Blood Pressure Before (mmHg)   Blood Pressure After (mmHg)\n",
       "0            1                            130                           120\n",
       "1            2                            142                           135\n",
       "2            3                            120                           118\n",
       "3            4                            135                           127\n",
       "4            5                            148                           140\n",
       "..         ...                            ...                           ...\n",
       "95          96                            136                           129\n",
       "96          97                            143                           137\n",
       "97          98                            127                           123\n",
       "98          99                            139                           135\n",
       "99         100                            135                           130\n",
       "\n",
       "[100 rows x 3 columns]"
      ]
     },
     "execution_count": 90,
     "metadata": {},
     "output_type": "execute_result"
    }
   ],
   "source": [
    "import numpy as np\n",
    "import pandas as pd\n",
    "from scipy.stats import ttest_ind\n",
    "\n",
    "data11 = pd.read_csv('data.csv')\n",
    "data11"
   ]
  },
  {
   "cell_type": "code",
   "execution_count": 105,
   "id": "f39c7ea0",
   "metadata": {},
   "outputs": [
    {
     "data": {
      "text/plain": [
       "array([<AxesSubplot:title={'center':' Blood Pressure Before (mmHg)'}, xlabel='Patient ID'>,\n",
       "       <AxesSubplot:title={'center':' Blood Pressure After (mmHg)'}, xlabel='Patient ID'>],\n",
       "      dtype=object)"
      ]
     },
     "execution_count": 105,
     "metadata": {},
     "output_type": "execute_result"
    },
    {
     "data": {
      "image/png": "[encoded data removed]",
      "text/plain": [
       "<Figure size 1080x576 with 2 Axes>"
      ]
     },
     "metadata": {
      "needs_background": "light"
     },
     "output_type": "display_data"
    }
   ],
   "source": [
    "import pandas as pd\n",
    "from matplotlib import pyplot as plt\n",
    "from scipy.stats import ttest_rel\n",
    "\n",
    "# a. Check whether the distribution of all the classes is the same or not\n",
    "data11.boxplot(column=[' Blood Pressure Before (mmHg)', ' Blood Pressure After (mmHg)'], by='Patient ID',figsize=(15,8))\n",
    "\n",
    "\n"
   ]
  },
  {
   "cell_type": "code",
   "execution_count": 107,
   "id": "81d6f4c4",
   "metadata": {},
   "outputs": [
    {
     "name": "stdout",
     "output_type": "stream",
     "text": [
      "Variance test result (paired t-test):\n",
      " Ttest_relResult(statistic=38.40500458621546, pvalue=2.817165090364283e-61)\n"
     ]
    }
   ],
   "source": [
    "# b. Check for the equality of variance\n",
    "variance_test = ttest_rel(data11[' Blood Pressure Before (mmHg)'], data11[' Blood Pressure After (mmHg)'])\n",
    "print(\"Variance test result (paired t-test):\\n\", variance_test)\n",
    "\n",
    "\n"
   ]
  },
  {
   "cell_type": "code",
   "execution_count": 124,
   "id": "4abd7ef1",
   "metadata": {},
   "outputs": [
    {
     "name": "stdout",
     "output_type": "stream",
     "text": [
      "LDA Accuracy: 0.625\n",
      "QDA Accuracy: 0.625\n"
     ]
    }
   ],
   "source": [
    "# c. Which amount LDA and QDA would perform better on this data for classification and why.\n",
    "from sklearn.discriminant_analysis import LinearDiscriminantAnalysis, QuadraticDiscriminantAnalysis\n",
    "from sklearn.model_selection import train_test_split\n",
    "from sklearn.metrics import accuracy_score\n",
    "\n",
    "# Prepare the data for classification\n",
    "X = np.array(data11[' Blood Pressure Before (mmHg)'].values.tolist()+data11[' Blood Pressure After (mmHg)'].values.tolist())\n",
    "X = X.reshape(-1, 1)\n",
    "y = ['Before'] * 100 + ['After'] * 100\n",
    "\n",
    "# Split the data into training and testing sets\n",
    "X_train, X_test, y_train, y_test = train_test_split(X, y, test_size=0.2, random_state=42)\n",
    "\n",
    "# Train and evaluate LDA\n",
    "lda = LinearDiscriminantAnalysis()\n",
    "lda.fit(X_train, y_train)\n",
    "lda_pred = lda.predict(X_test)\n",
    "lda_accuracy = accuracy_score(y_test, lda_pred)\n",
    "\n",
    "# Train and evaluate QDA\n",
    "qda = QuadraticDiscriminantAnalysis()\n",
    "qda.fit(X_train, y_train)\n",
    "qda_pred = qda.predict(X_test)\n",
    "qda_accuracy = accuracy_score(y_test, qda_pred)\n",
    "\n",
    "# Compare the accuracies of LDA and QDA\n",
    "print(\"LDA Accuracy:\", lda_accuracy)\n",
    "print(\"QDA Accuracy:\", qda_accuracy)\n"
   ]
  },
  {
   "cell_type": "code",
   "execution_count": 126,
   "id": "c3968a73",
   "metadata": {},
   "outputs": [
    {
     "name": "stdout",
     "output_type": "stream",
     "text": [
      "Mean test result (paired t-test):\n",
      " Ttest_relResult(statistic=38.40500458621546, pvalue=2.817165090364283e-61)\n"
     ]
    }
   ],
   "source": [
    "# d. Check the equality of mean between all the classes\n",
    "mean_test = ttest_rel(data11[' Blood Pressure Before (mmHg)'], data11[' Blood Pressure After (mmHg)'])\n",
    "print(\"Mean test result (paired t-test):\\n\", mean_test)"
   ]
  },
  {
   "cell_type": "markdown",
   "id": "9931158b",
   "metadata": {},
   "source": [
    "## Q-12. \n",
    "A pharmaceutical company develops a new drug and wants to compare its\n",
    "effectiveness against a standard drug for treating a particular condition. They conduct a\n",
    "study with two groups: Group A receives the new drug, and Group B receives the standard\n",
    "drug. The company measures the improvement in a specific symptom for both groups after\n",
    "a 4-week treatment period.\n",
    "\n",
    "a. The company collects data from 30 patients in each group and calculates the\n",
    "mean improvement score and the standard deviation of improvement for each\n",
    "group. The mean improvement score for Group A is 2.5 with a standard\n",
    "deviation of 0.8, while the mean improvement score for Group B is 2.2 with a\n",
    "standard deviation of 0.6. Conduct a t-test to determine if there is a significant\n",
    "difference in the mean improvement scores between the two groups. Use a\n",
    "significance level of 0.05.\n",
    "\n",
    "b. Based on the t-test results, state whether the null hypothesis should be\n",
    "rejected or not. Provide a conclusion in the context of the study"
   ]
  },
  {
   "cell_type": "code",
   "execution_count": 127,
   "id": "e951c390",
   "metadata": {},
   "outputs": [
    {
     "name": "stdout",
     "output_type": "stream",
     "text": [
      "Fail to reject the null hypothesis. There is no significant difference in mean improvement scores between the two groups.\n"
     ]
    }
   ],
   "source": [
    "import numpy as np\n",
    "from scipy.stats import t\n",
    "\n",
    "# Group A data\n",
    "mean_A = 2.5\n",
    "std_A = 0.8\n",
    "n_A = 30\n",
    "\n",
    "# Group B data\n",
    "mean_B = 2.2\n",
    "std_B = 0.6\n",
    "n_B = 30\n",
    "\n",
    "# Calculate the test statistic\n",
    "t_statistic = (mean_A - mean_B) / np.sqrt((std_A**2 / n_A) + (std_B**2 / n_B))\n",
    "\n",
    "# Calculate the degrees of freedom\n",
    "df = ((std_A**2 / n_A) + (std_B**2 / n_B))**2 / (((std_A**2 / n_A)**2) / (n_A - 1) + ((std_B**2 / n_B)**2) / (n_B - 1))\n",
    "\n",
    "# Set the significance level\n",
    "alpha = 0.05\n",
    "\n",
    "# Calculate the critical t-value\n",
    "critical_t = t.ppf(1 - alpha/2, df)\n",
    "\n",
    "# Compare the test statistic with the critical t-value\n",
    "if np.abs(t_statistic) > critical_t:\n",
    "    print(\"Reject the null hypothesis. There is a significant difference in mean improvement scores between the two groups.\")\n",
    "else:\n",
    "    print(\"Fail to reject the null hypothesis. There is no significant difference in mean improvement scores between the two groups.\")\n"
   ]
  },
  {
   "cell_type": "code",
   "execution_count": null,
   "id": "a24f0e53",
   "metadata": {},
   "outputs": [],
   "source": []
  }
 ],
 "metadata": {
  "kernelspec": {
   "display_name": "Python 3 (ipykernel)",
   "language": "python",
   "name": "python3"
  },
  "language_info": {
   "codemirror_mode": {
    "name": "ipython",
    "version": 3
   },
   "file_extension": ".py",
   "mimetype": "text/x-python",
   "name": "python",
   "nbconvert_exporter": "python",
   "pygments_lexer": "ipython3",
   "version": "3.9.12"
  }
 },
 "nbformat": 4,
 "nbformat_minor": 5
}
